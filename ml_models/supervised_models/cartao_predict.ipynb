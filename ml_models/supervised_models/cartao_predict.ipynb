{
 "cells": [
  {
   "cell_type": "markdown",
   "metadata": {},
   "source": [
    "Modelo de AI para prever qual será o score_credito de um cliente.\n",
    "Será usado modelo de aprendizado supervisionado com a biblioteca scikit-learn."
   ]
  },
  {
   "cell_type": "code",
   "execution_count": 1,
   "metadata": {},
   "outputs": [],
   "source": [
    "#Importando as bibliotecas que serão usadas para prever a váriavel target.\n",
    "\n",
    "import pandas as pd\n",
    "import numpy as np\n",
    "from sklearn.preprocessing import LabelEncoder\n",
    "from sklearn.model_selection import train_test_split\n",
    "from sklearn.ensemble import RandomForestClassifier\n",
    "from sklearn.neighbors import KNeighborsClassifier\n",
    "from sklearn.linear_model import LinearRegression\n",
    "from sklearn.metrics import accuracy_score"
   ]
  },
  {
   "cell_type": "code",
   "execution_count": 2,
   "metadata": {},
   "outputs": [],
   "source": [
    "#Importando a base de dados\n",
    "df = pd.read_csv(r'\\datasets\\clientes.csv')\n",
    "\n",
    "#Limpando e tratando os dados\n",
    "#df.isna().sum() #nenhum valor nulo nas colunas\n",
    "#df.info()\n",
    "\n",
    "#removendo qualquer espaço a mais no inicio e final das colunas que são texto\n",
    "cols = ['profissao', 'mix_credito', 'comportamento_pagamento']\n",
    "\n",
    "for col in cols:\n",
    "    df[col] = df[col].str.strip()"
   ]
  },
  {
   "cell_type": "markdown",
   "metadata": {},
   "source": [
    "Preparando a base de dados.\n",
    "Tratando colunas que não estão como números, a inteligencia artificial trabalha somente com números.\n",
    "As colunas que não são números são: \n",
    "profissao\n",
    "mix_credito\n",
    "comportamento_pagamento\n",
    "score_credito\n",
    "\n",
    "A coluna score_credito não precisará ser tratada pois ela é nosso target e não entrará como variável de treinamento do modelo\n",
    " \n"
   ]
  },
  {
   "cell_type": "code",
   "execution_count": 3,
   "metadata": {},
   "outputs": [],
   "source": [
    "#Criando o codificador que transforma os dados de texto para numero\n",
    "\n",
    "encoder = LabelEncoder()\n",
    "\n",
    "df['profissao'] = encoder.fit_transform(df['profissao'])\n",
    "df['mix_credito'] = encoder.fit_transform(df['mix_credito'])\n",
    "df['comportamento_pagamento'] = encoder.fit_transform(df['comportamento_pagamento'])"
   ]
  },
  {
   "cell_type": "code",
   "execution_count": 4,
   "metadata": {},
   "outputs": [],
   "source": [
    "#help(train_test_split)"
   ]
  },
  {
   "cell_type": "code",
   "execution_count": 4,
   "metadata": {},
   "outputs": [],
   "source": [
    "#Separando as colunas que serão usadas para treinar o modelo, serão armazenadas em X. y é o obejto com a variável Target.\n",
    "\n",
    "X = df.drop(['score_credito', 'id_cliente'], axis = 1).values #Removi também a coluna id_cliente porque ela não deve ser levada em consideração no aprendizado da AI\n",
    "y = df['score_credito'].values\n",
    "\n",
    "X_train, X_test, y_train, y_test = train_test_split(X, y, test_size = 0.3)"
   ]
  },
  {
   "cell_type": "markdown",
   "metadata": {},
   "source": [
    "Criando instância do modelo que fará a previsão. Faremos a comparação entre três modelos, RandomForestClassifier, KNeighborsClassifier e LinearRegression"
   ]
  },
  {
   "cell_type": "code",
   "execution_count": 5,
   "metadata": {},
   "outputs": [],
   "source": [
    "#Criando instância do modelo\n",
    "\n",
    "forest = RandomForestClassifier()\n",
    "knn = KNeighborsClassifier(n_neighbors = 5)\n",
    "#linear = LinearRegression()\n",
    "\n",
    "#Treinando os modelos. Ao se treinar os modelos devemos usar as variáveis de treino. Uma analogia para lembrar: para ficar fitness temos que treinar!\n",
    "forest.fit(X_train, y_train)\n",
    "knn.fit(X_train, y_train)\n",
    "#linear.fit(X_train, y_train)\n",
    "\n",
    "#Fazendo a previsão dos dados de teste que separamos. Usamos sempre os dados que são as caracteristicas do modelo ao fazer o .predict()\n",
    "for_prediction = forest.predict(X_test)\n",
    "knn_prediction = knn.predict(X_test)\n",
    "#linear.predict(X_test)"
   ]
  },
  {
   "cell_type": "markdown",
   "metadata": {},
   "source": [
    "Escolhendo qual o melhor modelo, calculando a Accuracy de cada modelo"
   ]
  },
  {
   "cell_type": "code",
   "execution_count": 6,
   "metadata": {},
   "outputs": [
    {
     "name": "stdout",
     "output_type": "stream",
     "text": [
      "Accuracy do modelo RandomForest: 82.45 %\n",
      "Accuracy do modelo KNeighbors: 73.75 %\n"
     ]
    }
   ],
   "source": [
    "#Printando qual modelo teve melhor resultado de Accuracy. Neste teste vemos qual modelo acertou mais vezes as previsões\n",
    "\n",
    "for_accuracy = accuracy_score(y_test, for_prediction)\n",
    "knn_accuracy = accuracy_score(y_test, knn_prediction)\n",
    "\n",
    "print('Accuracy do modelo RandomForest: {}'.format(np.round(for_accuracy * 100, 2)), '%')\n",
    "print('Accuracy do modelo KNeighbors: {}'.format(np.round(knn_accuracy * 100, 2)),'%')"
   ]
  },
  {
   "cell_type": "markdown",
   "metadata": {},
   "source": [
    "Chegamos a conclusão que o modelo RandomForestClassifier conseguiu prever corretamente mais vezes que o modelo KNeighborsClassifier.\n",
    "\n",
    "Utilizando o modelo RandomForestClassifier em um cenário real:"
   ]
  },
  {
   "cell_type": "code",
   "execution_count": 11,
   "metadata": {},
   "outputs": [
    {
     "name": "stdout",
     "output_type": "stream",
     "text": [
      "Index(['mes', 'idade', 'profissao', 'salario_anual', 'num_contas',\n",
      "       'num_cartoes', 'juros_emprestimo', 'num_emprestimos', 'dias_atraso',\n",
      "       'num_pagamentos_atrasados', 'num_verificacoes_credito', 'mix_credito',\n",
      "       'divida_total', 'taxa_uso_credito', 'idade_historico_credito',\n",
      "       'investimento_mensal', 'comportamento_pagamento', 'saldo_final_mes',\n",
      "       'emprestimo_carro', 'emprestimo_casa', 'emprestimo_pessoal',\n",
      "       'emprestimo_credito', 'emprestimo_estudantil'],\n",
      "      dtype='object')\n"
     ]
    }
   ],
   "source": [
    "#Importando a nova base com novos clientes\n",
    "n_df = pd.read_csv(r'datasets\\novos_clientes.csv')\n",
    "\n",
    "#Fazendo o tratamento da base de dados. Transformando as colunas de texto em numericas\n",
    "n_df['profissao'] = encoder.fit_transform(n_df['profissao'])\n",
    "n_df['mix_credito'] = encoder.fit_transform(n_df['mix_credito'])\n",
    "n_df['comportamento_pagamento'] = encoder.fit_transform(n_df['comportamento_pagamento'])"
   ]
  },
  {
   "cell_type": "code",
   "execution_count": 8,
   "metadata": {},
   "outputs": [
    {
     "name": "stderr",
     "output_type": "stream",
     "text": [
      "c:\\Users\\Matheus\\anaconda3\\lib\\site-packages\\sklearn\\base.py:413: UserWarning: X has feature names, but RandomForestClassifier was fitted without feature names\n",
      "  warnings.warn(\n"
     ]
    }
   ],
   "source": [
    "#Como o modelo de previsão já está pronto, não precisamos fazer um novo, basta fazer a previsão nesta nova base\n",
    "previsao = forest.predict(n_df)"
   ]
  },
  {
   "cell_type": "code",
   "execution_count": 12,
   "metadata": {},
   "outputs": [
    {
     "data": {
      "text/html": [
       "<div>\n",
       "<style scoped>\n",
       "    .dataframe tbody tr th:only-of-type {\n",
       "        vertical-align: middle;\n",
       "    }\n",
       "\n",
       "    .dataframe tbody tr th {\n",
       "        vertical-align: top;\n",
       "    }\n",
       "\n",
       "    .dataframe thead th {\n",
       "        text-align: right;\n",
       "    }\n",
       "</style>\n",
       "<table border=\"1\" class=\"dataframe\">\n",
       "  <thead>\n",
       "    <tr style=\"text-align: right;\">\n",
       "      <th></th>\n",
       "      <th>idade</th>\n",
       "      <th>profissao</th>\n",
       "      <th>salario_anual</th>\n",
       "      <th>score_predict</th>\n",
       "    </tr>\n",
       "  </thead>\n",
       "  <tbody>\n",
       "    <tr>\n",
       "      <th>0</th>\n",
       "      <td>31.0</td>\n",
       "      <td>1</td>\n",
       "      <td>19300.340</td>\n",
       "      <td>Poor</td>\n",
       "    </tr>\n",
       "    <tr>\n",
       "      <th>1</th>\n",
       "      <td>32.0</td>\n",
       "      <td>0</td>\n",
       "      <td>12600.445</td>\n",
       "      <td>Standard</td>\n",
       "    </tr>\n",
       "    <tr>\n",
       "      <th>2</th>\n",
       "      <td>48.0</td>\n",
       "      <td>1</td>\n",
       "      <td>20787.690</td>\n",
       "      <td>Standard</td>\n",
       "    </tr>\n",
       "  </tbody>\n",
       "</table>\n",
       "</div>"
      ],
      "text/plain": [
       "   idade  profissao  salario_anual score_predict\n",
       "0   31.0          1      19300.340          Poor\n",
       "1   32.0          0      12600.445      Standard\n",
       "2   48.0          1      20787.690      Standard"
      ]
     },
     "execution_count": 12,
     "metadata": {},
     "output_type": "execute_result"
    }
   ],
   "source": [
    "n_df['score_predict'] = previsao\n",
    "n_df[['idade', 'profissao', 'salario_anual', 'score_predict']]"
   ]
  }
 ],
 "metadata": {
  "kernelspec": {
   "display_name": "base",
   "language": "python",
   "name": "python3"
  },
  "language_info": {
   "codemirror_mode": {
    "name": "ipython",
    "version": 3
   },
   "file_extension": ".py",
   "mimetype": "text/x-python",
   "name": "python",
   "nbconvert_exporter": "python",
   "pygments_lexer": "ipython3",
   "version": "3.10.9"
  },
  "orig_nbformat": 4
 },
 "nbformat": 4,
 "nbformat_minor": 2
}
